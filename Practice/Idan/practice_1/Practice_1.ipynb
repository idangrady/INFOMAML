{
 "cells": [
  {
   "cell_type": "markdown",
   "id": "202d0b17",
   "metadata": {},
   "source": [
    "Tuturial Link\n",
    "https://www.youtube.com/watch?v=Mut_u40Sqz4;\n",
    "Credit: Nicholas Renotte\n"
   ]
  },
  {
   "cell_type": "code",
   "execution_count": 1,
   "id": "42a10aed",
   "metadata": {
    "scrolled": true
   },
   "outputs": [
    {
     "name": "stdout",
     "output_type": "stream",
     "text": [
      "Collecting stable-baselines3[extra]\n",
      "  Downloading stable_baselines3-1.3.0-py3-none-any.whl (174 kB)\n",
      "Requirement already satisfied: numpy in d:\\anaconda_2\\lib\\site-packages (from stable-baselines3[extra]) (1.20.1)\n",
      "Requirement already satisfied: pandas in d:\\anaconda_2\\lib\\site-packages (from stable-baselines3[extra]) (1.2.4)\n",
      "Requirement already satisfied: matplotlib in d:\\anaconda_2\\lib\\site-packages (from stable-baselines3[extra]) (3.3.4)\n",
      "Collecting gym<0.20,>=0.17\n",
      "  Downloading gym-0.19.0.tar.gz (1.6 MB)\n",
      "Collecting torch>=1.8.1\n",
      "  Downloading torch-1.10.0-cp38-cp38-win_amd64.whl (226.6 MB)\n",
      "Requirement already satisfied: cloudpickle in d:\\anaconda_2\\lib\\site-packages (from stable-baselines3[extra]) (1.6.0)\n",
      "Requirement already satisfied: pillow in d:\\anaconda_2\\lib\\site-packages (from stable-baselines3[extra]) (8.2.0)\n",
      "Collecting tensorboard>=2.2.0\n",
      "  Downloading tensorboard-2.7.0-py3-none-any.whl (5.8 MB)\n",
      "Requirement already satisfied: psutil in d:\\anaconda_2\\lib\\site-packages (from stable-baselines3[extra]) (5.8.0)\n",
      "Collecting opencv-python\n",
      "  Downloading opencv_python-4.5.4.58-cp38-cp38-win_amd64.whl (35.1 MB)\n",
      "Collecting atari-py~=0.2.0\n",
      "  Downloading atari_py-0.2.9-cp38-cp38-win_amd64.whl (1.6 MB)\n",
      "Requirement already satisfied: six in d:\\anaconda_2\\lib\\site-packages (from atari-py~=0.2.0->stable-baselines3[extra]) (1.15.0)\n",
      "Collecting markdown>=2.6.8\n",
      "  Downloading Markdown-3.3.6-py3-none-any.whl (97 kB)\n",
      "Collecting protobuf>=3.6.0\n",
      "  Downloading protobuf-3.19.1-cp38-cp38-win_amd64.whl (895 kB)\n",
      "Requirement already satisfied: requests<3,>=2.21.0 in d:\\anaconda_2\\lib\\site-packages (from tensorboard>=2.2.0->stable-baselines3[extra]) (2.25.1)\n",
      "Collecting tensorboard-plugin-wit>=1.6.0\n",
      "  Downloading tensorboard_plugin_wit-1.8.0-py3-none-any.whl (781 kB)\n",
      "Requirement already satisfied: setuptools>=41.0.0 in d:\\anaconda_2\\lib\\site-packages (from tensorboard>=2.2.0->stable-baselines3[extra]) (52.0.0.post20210125)\n",
      "Collecting tensorboard-data-server<0.7.0,>=0.6.0\n",
      "  Downloading tensorboard_data_server-0.6.1-py3-none-any.whl (2.4 kB)\n",
      "Collecting google-auth<3,>=1.6.3\n",
      "  Downloading google_auth-2.3.3-py2.py3-none-any.whl (155 kB)\n",
      "Requirement already satisfied: werkzeug>=0.11.15 in d:\\anaconda_2\\lib\\site-packages (from tensorboard>=2.2.0->stable-baselines3[extra]) (1.0.1)\n",
      "Requirement already satisfied: wheel>=0.26 in d:\\anaconda_2\\lib\\site-packages (from tensorboard>=2.2.0->stable-baselines3[extra]) (0.36.2)\n",
      "Collecting grpcio>=1.24.3\n",
      "  Downloading grpcio-1.42.0-cp38-cp38-win_amd64.whl (3.3 MB)\n",
      "Collecting absl-py>=0.4\n",
      "  Downloading absl_py-1.0.0-py3-none-any.whl (126 kB)\n",
      "Collecting google-auth-oauthlib<0.5,>=0.4.1\n",
      "  Downloading google_auth_oauthlib-0.4.6-py2.py3-none-any.whl (18 kB)\n",
      "Collecting cachetools<5.0,>=2.0.0\n",
      "  Downloading cachetools-4.2.4-py3-none-any.whl (10 kB)\n",
      "Collecting rsa<5,>=3.1.4\n",
      "  Downloading rsa-4.7.2-py3-none-any.whl (34 kB)\n",
      "Collecting pyasn1-modules>=0.2.1\n",
      "  Downloading pyasn1_modules-0.2.8-py2.py3-none-any.whl (155 kB)\n",
      "Collecting requests-oauthlib>=0.7.0\n",
      "  Downloading requests_oauthlib-1.3.0-py2.py3-none-any.whl (23 kB)\n",
      "Collecting importlib-metadata>=4.4\n",
      "  Downloading importlib_metadata-4.8.2-py3-none-any.whl (17 kB)\n",
      "Requirement already satisfied: zipp>=0.5 in d:\\anaconda_2\\lib\\site-packages (from importlib-metadata>=4.4->markdown>=2.6.8->tensorboard>=2.2.0->stable-baselines3[extra]) (3.4.1)\n",
      "Collecting pyasn1<0.5.0,>=0.4.6\n",
      "  Downloading pyasn1-0.4.8-py2.py3-none-any.whl (77 kB)\n",
      "Requirement already satisfied: urllib3<1.27,>=1.21.1 in d:\\anaconda_2\\lib\\site-packages (from requests<3,>=2.21.0->tensorboard>=2.2.0->stable-baselines3[extra]) (1.26.4)\n",
      "Requirement already satisfied: chardet<5,>=3.0.2 in d:\\anaconda_2\\lib\\site-packages (from requests<3,>=2.21.0->tensorboard>=2.2.0->stable-baselines3[extra]) (4.0.0)\n",
      "Requirement already satisfied: idna<3,>=2.5 in d:\\anaconda_2\\lib\\site-packages (from requests<3,>=2.21.0->tensorboard>=2.2.0->stable-baselines3[extra]) (2.10)\n",
      "Requirement already satisfied: certifi>=2017.4.17 in d:\\anaconda_2\\lib\\site-packages (from requests<3,>=2.21.0->tensorboard>=2.2.0->stable-baselines3[extra]) (2020.12.5)\n",
      "Collecting oauthlib>=3.0.0\n",
      "  Downloading oauthlib-3.1.1-py2.py3-none-any.whl (146 kB)\n",
      "Requirement already satisfied: typing-extensions in d:\\anaconda_2\\lib\\site-packages (from torch>=1.8.1->stable-baselines3[extra]) (3.7.4.3)\n",
      "Requirement already satisfied: pyparsing!=2.0.4,!=2.1.2,!=2.1.6,>=2.0.3 in d:\\anaconda_2\\lib\\site-packages (from matplotlib->stable-baselines3[extra]) (2.4.7)\n",
      "Requirement already satisfied: cycler>=0.10 in d:\\anaconda_2\\lib\\site-packages (from matplotlib->stable-baselines3[extra]) (0.10.0)\n",
      "Requirement already satisfied: python-dateutil>=2.1 in d:\\anaconda_2\\lib\\site-packages (from matplotlib->stable-baselines3[extra]) (2.8.1)\n",
      "Requirement already satisfied: kiwisolver>=1.0.1 in d:\\anaconda_2\\lib\\site-packages (from matplotlib->stable-baselines3[extra]) (1.3.1)\n",
      "Requirement already satisfied: pytz>=2017.3 in d:\\anaconda_2\\lib\\site-packages (from pandas->stable-baselines3[extra]) (2021.1)\n",
      "Building wheels for collected packages: gym\n",
      "  Building wheel for gym (setup.py): started\n",
      "  Building wheel for gym (setup.py): finished with status 'done'\n",
      "  Created wheel for gym: filename=gym-0.19.0-py3-none-any.whl size=1663119 sha256=97c83dbf73d3a767b0f5c04a1dadeeac912520bb804da4e91b8a743c9bbac67e\n",
      "  Stored in directory: c:\\users\\admin\\appdata\\local\\pip\\cache\\wheels\\11\\36\\28\\628f4dd3779e4037a6fca1aaed76827ffa4315c3ab6bfadcf6\n",
      "Successfully built gym\n",
      "Installing collected packages: pyasn1, rsa, pyasn1-modules, oauthlib, cachetools, requests-oauthlib, importlib-metadata, google-auth, torch, tensorboard-plugin-wit, tensorboard-data-server, protobuf, markdown, gym, grpcio, google-auth-oauthlib, absl-py, tensorboard, stable-baselines3, opencv-python, atari-py\n",
      "  Attempting uninstall: importlib-metadata\n",
      "    Found existing installation: importlib-metadata 3.10.0\n",
      "    Uninstalling importlib-metadata-3.10.0:\n",
      "      Successfully uninstalled importlib-metadata-3.10.0\n",
      "  Attempting uninstall: gym\n",
      "    Found existing installation: gym 0.21.0\n",
      "    Uninstalling gym-0.21.0:\n",
      "      Successfully uninstalled gym-0.21.0\n",
      "Successfully installed absl-py-1.0.0 atari-py-0.2.9 cachetools-4.2.4 google-auth-2.3.3 google-auth-oauthlib-0.4.6 grpcio-1.42.0 gym-0.19.0 importlib-metadata-4.8.2 markdown-3.3.6 oauthlib-3.1.1 opencv-python-4.5.4.58 protobuf-3.19.1 pyasn1-0.4.8 pyasn1-modules-0.2.8 requests-oauthlib-1.3.0 rsa-4.7.2 stable-baselines3-1.3.0 tensorboard-2.7.0 tensorboard-data-server-0.6.1 tensorboard-plugin-wit-1.8.0 torch-1.10.0\n"
     ]
    }
   ],
   "source": [
    "!pip install stable-baselines3[extra]"
   ]
  },
  {
   "cell_type": "code",
   "execution_count": 1,
   "id": "b7fb3593",
   "metadata": {},
   "outputs": [],
   "source": [
    "import os\n",
    "import gym \n",
    "from stable_baselines3 import PPO\n",
    "from stable_baselines3.common.vec_env import DummyVecEnv\n",
    "from stable_baselines3.common.evaluation import evaluate_policy"
   ]
  },
  {
   "cell_type": "code",
   "execution_count": 2,
   "id": "69bef0dd",
   "metadata": {},
   "outputs": [
    {
     "name": "stdout",
     "output_type": "stream",
     "text": [
      "1\n"
     ]
    }
   ],
   "source": [
    "environment_name = \"CartPole-v0\"\n",
    "env = gym.make(environment_name)\n",
    "\n",
    "#note that the sample space does not include the action descrete: meaning that if we have Discreate=2: It means that the sample space {0,1}\n",
    "env.reset()\n",
    "print( env.action_space.sample())"
   ]
  },
  {
   "cell_type": "code",
   "execution_count": 31,
   "id": "b8426d23",
   "metadata": {},
   "outputs": [
    {
     "name": "stdout",
     "output_type": "stream",
     "text": [
      "episode: 0 ,action_space: 1, score:15.0\n",
      "episode: 1 ,action_space: 1, score:11.0\n",
      "episode: 2 ,action_space: 0, score:14.0\n",
      "episode: 3 ,action_space: 0, score:27.0\n",
      "episode: 4 ,action_space: 1, score:15.0\n",
      "episode: 5 ,action_space: 1, score:83.0\n",
      "episode: 6 ,action_space: 0, score:66.0\n",
      "episode: 7 ,action_space: 1, score:16.0\n",
      "episode: 8 ,action_space: 0, score:20.0\n",
      "episode: 9 ,action_space: 0, score:13.0\n",
      "episode: 10 ,action_space: 0, score:11.0\n",
      "episode: 11 ,action_space: 0, score:10.0\n",
      "episode: 12 ,action_space: 1, score:20.0\n",
      "episode: 13 ,action_space: 0, score:29.0\n",
      "episode: 14 ,action_space: 0, score:30.0\n",
      "episode: 15 ,action_space: 0, score:11.0\n",
      "episode: 16 ,action_space: 0, score:51.0\n",
      "episode: 17 ,action_space: 0, score:42.0\n",
      "episode: 18 ,action_space: 0, score:13.0\n",
      "episode: 19 ,action_space: 0, score:24.0\n",
      "episode: 20 ,action_space: 1, score:22.0\n",
      "episode: 21 ,action_space: 0, score:24.0\n",
      "episode: 22 ,action_space: 0, score:13.0\n",
      "episode: 23 ,action_space: 0, score:13.0\n",
      "episode: 24 ,action_space: 0, score:17.0\n",
      "episode: 25 ,action_space: 1, score:9.0\n",
      "episode: 26 ,action_space: 1, score:27.0\n",
      "episode: 27 ,action_space: 1, score:25.0\n",
      "episode: 28 ,action_space: 1, score:19.0\n",
      "episode: 29 ,action_space: 0, score:48.0\n",
      "episode: 30 ,action_space: 0, score:41.0\n",
      "episode: 31 ,action_space: 1, score:28.0\n",
      "episode: 32 ,action_space: 0, score:19.0\n",
      "episode: 33 ,action_space: 1, score:25.0\n",
      "episode: 34 ,action_space: 0, score:13.0\n",
      "episode: 35 ,action_space: 1, score:17.0\n",
      "episode: 36 ,action_space: 0, score:51.0\n",
      "episode: 37 ,action_space: 0, score:32.0\n",
      "episode: 38 ,action_space: 1, score:15.0\n",
      "episode: 39 ,action_space: 1, score:16.0\n",
      "episode: 40 ,action_space: 0, score:15.0\n",
      "episode: 41 ,action_space: 1, score:17.0\n",
      "episode: 42 ,action_space: 1, score:24.0\n",
      "episode: 43 ,action_space: 1, score:23.0\n",
      "episode: 44 ,action_space: 0, score:29.0\n",
      "episode: 45 ,action_space: 0, score:10.0\n",
      "episode: 46 ,action_space: 0, score:19.0\n",
      "episode: 47 ,action_space: 0, score:12.0\n",
      "episode: 48 ,action_space: 1, score:11.0\n",
      "episode: 49 ,action_space: 1, score:10.0\n"
     ]
    }
   ],
   "source": [
    "episodes = 50\n",
    "for episode in range(0, episodes):\n",
    "    #initial\n",
    "    state = env.reset()\n",
    "    done = False\n",
    "    score = 0\n",
    "    \n",
    "    while not done:\n",
    "        env.render()\n",
    "        action = env.action_space.sample()\n",
    "        (n_state, reward, done, info) = env.step(action)\n",
    "        score+=reward\n",
    "        \n",
    "    print( f\"episode: {episode} ,action_space: {action}, score:{score}\")\n",
    "env.close()"
   ]
  },
  {
   "cell_type": "code",
   "execution_count": 27,
   "id": "07789d1d",
   "metadata": {},
   "outputs": [
    {
     "name": "stdout",
     "output_type": "stream",
     "text": [
      "Collecting pyglet\n",
      "  Downloading pyglet-1.5.21-py3-none-any.whl (1.1 MB)\n",
      "Installing collected packages: pyglet\n",
      "Successfully installed pyglet-1.5.21\n"
     ]
    }
   ],
   "source": [
    "!pip install pyglet"
   ]
  },
  {
   "cell_type": "code",
   "execution_count": 3,
   "id": "a8eac32c",
   "metadata": {},
   "outputs": [
    {
     "data": {
      "text/plain": [
       "'Log\\\\Training'"
      ]
     },
     "execution_count": 3,
     "metadata": {},
     "output_type": "execute_result"
    }
   ],
   "source": [
    "file_path = os.path.join('Log', 'Training')\n",
    "file_path"
   ]
  },
  {
   "cell_type": "code",
   "execution_count": 4,
   "id": "bdd30c8e",
   "metadata": {},
   "outputs": [],
   "source": [
    "current_verbose = 0 # we have 0 (Defult), 1 (info),2 (Debug)\n",
    "env = gym.make(environment_name)\n",
    "env = DummyVecEnv([lambda:env])\n",
    "model = PPO('MlpPolicy',env,verbose = current_verbose, tensorboard_log  = file_path ) # like difingn our agent MLTpolicy : Multilayer perceptron"
   ]
  },
  {
   "cell_type": "code",
   "execution_count": 10,
   "id": "eee07383",
   "metadata": {},
   "outputs": [],
   "source": [
    "PPO??"
   ]
  },
  {
   "cell_type": "code",
   "execution_count": 5,
   "id": "c1a7156a",
   "metadata": {},
   "outputs": [
    {
     "data": {
      "text/plain": [
       "<stable_baselines3.ppo.ppo.PPO at 0x22e8a003790>"
      ]
     },
     "execution_count": 5,
     "metadata": {},
     "output_type": "execute_result"
    }
   ],
   "source": [
    "model.learn(total_timesteps = 20000)"
   ]
  },
  {
   "cell_type": "code",
   "execution_count": 6,
   "id": "f4d775f6",
   "metadata": {},
   "outputs": [],
   "source": [
    "model_path_PPO = os.path.join('Training', 'Saved_models', 'PPO_model_carpole')"
   ]
  },
  {
   "cell_type": "code",
   "execution_count": 18,
   "id": "3c58f0f6",
   "metadata": {},
   "outputs": [
    {
     "name": "stderr",
     "output_type": "stream",
     "text": [
      "D:\\Anaconda_2\\lib\\site-packages\\stable_baselines3\\common\\save_util.py:276: UserWarning: Path 'Training\\Saved_models' does not exist. Will create it.\n",
      "  warnings.warn(f\"Path '{path.parent}' does not exist. Will create it.\")\n"
     ]
    }
   ],
   "source": [
    "model.save(model_path_PPO)"
   ]
  },
  {
   "cell_type": "code",
   "execution_count": 10,
   "id": "dfaf8b1f",
   "metadata": {},
   "outputs": [],
   "source": [
    "#del model\n",
    "# how to reload the model?\n",
    "model = PPO.load('Training/Saved_models/PPO_model_carpole.zip', env = env)"
   ]
  },
  {
   "cell_type": "code",
   "execution_count": null,
   "id": "1d7e97cd",
   "metadata": {},
   "outputs": [],
   "source": []
  }
 ],
 "metadata": {
  "kernelspec": {
   "display_name": "Python 3",
   "language": "python",
   "name": "python3"
  },
  "language_info": {
   "codemirror_mode": {
    "name": "ipython",
    "version": 3
   },
   "file_extension": ".py",
   "mimetype": "text/x-python",
   "name": "python",
   "nbconvert_exporter": "python",
   "pygments_lexer": "ipython3",
   "version": "3.8.8"
  }
 },
 "nbformat": 4,
 "nbformat_minor": 5
}
