{
 "cells": [
  {
   "cell_type": "markdown",
   "id": "a458840a",
   "metadata": {},
   "source": [
    "Tutorial URL: https://www.youtube.com/watch?v=nvhWfk7R0RM&list=PLIfPjWrv526bMF8_vx9BqWjec-F-g-lQO&index=2 ; Credit: TheComputerScientist\n",
    "\n",
    "Gym classic control Website\n",
    "https://gym.openai.com/envs/#classic_control"
   ]
  },
  {
   "cell_type": "code",
   "execution_count": 1,
   "id": "3027e2c4",
   "metadata": {},
   "outputs": [],
   "source": [
    "# for this I copied some part from the previous tuturials"
   ]
  },
  {
   "cell_type": "code",
   "execution_count": 3,
   "id": "09197944",
   "metadata": {},
   "outputs": [],
   "source": [
    "import gym\n",
    "import numpy as np\n",
    "import random as rd"
   ]
  },
  {
   "cell_type": "code",
   "execution_count": 52,
   "id": "8f763f00",
   "metadata": {},
   "outputs": [
    {
     "name": "stdout",
     "output_type": "stream",
     "text": [
      "Obsarvation_space: Box([-1.2  -0.07], [0.6  0.07], (2,), float32)\n",
      "action space low limit: [-1.]\n",
      "action space high limit: Box([-1.], [1.], (1,), float32)\n"
     ]
    },
    {
     "data": {
      "text/plain": [
       "gym.spaces.discrete.Discrete"
      ]
     },
     "execution_count": 52,
     "metadata": {},
     "output_type": "execute_result"
    }
   ],
   "source": [
    "#import environment\n",
    "environment_name_old = \"CartPole-v1\"\n",
    "environment_name = \"MountainCarContinuous-v0\"\n",
    "env = gym.make(environment_name)\n",
    "print(f\"Obsarvation_space: {env.observation_space}\")\n",
    "print(f\"action space low limit: {env.action_space.low}\")\n",
    "print(f\"action space high limit: {env.action_space}\")\n",
    "\n",
    "env_old = gym.make(environment_name_old)\n",
    "env_old.action_space.n\n",
    "obs = env.observation_space\n",
    "\n",
    "type(env_old.action_space)"
   ]
  },
  {
   "cell_type": "code",
   "execution_count": 64,
   "id": "96ab0242",
   "metadata": {},
   "outputs": [],
   "source": [
    "class Agent():\n",
    "    def __init__(self, env):\n",
    "        #Initialisation\n",
    "        self.env = env\n",
    "        # check if the value is descrete or continous\n",
    "        self.discrete = type(env.action_space) == 'gym.spaces.discrete.Discrete'\n",
    "        if (self.discrete): # discrete\n",
    "            self.action_space_size = env.action_space.n\n",
    "        else:\n",
    "            self.action_space_low = env.action_space.low # you add n at the end to give you the range\n",
    "            self.action_space_high = env.action_space.high\n",
    "            self.shape = env.action_space.shape\n",
    "        \n",
    "    def get_action(self,state):\n",
    "        if self.discrete:\n",
    "            return rd.choice(range(self.action_space_size))\n",
    "        else:\n",
    "            action = np.random.uniform(low =self.action_space_low, high = self.action_space_high, size = self.shape)\n",
    "            return(action)\n"
   ]
  },
  {
   "cell_type": "code",
   "execution_count": 65,
   "id": "43e46b27",
   "metadata": {},
   "outputs": [
    {
     "name": "stdout",
     "output_type": "stream",
     "text": [
      "<bound method Agent.get_action of <__main__.Agent object at 0x000001BA6741D430>>\n"
     ]
    }
   ],
   "source": [
    "agent = Agent(env)\n",
    "print(agent.get_action)\n",
    "state =env.reset() #reset environment\n",
    "n_itters = 1000\n",
    "\n",
    "\n",
    "for _ in range(n_itters):\n",
    "    \n",
    "    #action\n",
    "    curr_act = agent.get_action(state)\n",
    "    #step\n",
    "    state,reward, done, info = env.step(curr_act)\n",
    "    #reward\n",
    "    #score\n",
    "    \n",
    "    env.render()\n",
    "env.close()"
   ]
  },
  {
   "cell_type": "code",
   "execution_count": null,
   "id": "ed63aa9e",
   "metadata": {},
   "outputs": [],
   "source": []
  }
 ],
 "metadata": {
  "kernelspec": {
   "display_name": "Python 3",
   "language": "python",
   "name": "python3"
  },
  "language_info": {
   "codemirror_mode": {
    "name": "ipython",
    "version": 3
   },
   "file_extension": ".py",
   "mimetype": "text/x-python",
   "name": "python",
   "nbconvert_exporter": "python",
   "pygments_lexer": "ipython3",
   "version": "3.8.8"
  }
 },
 "nbformat": 4,
 "nbformat_minor": 5
}
