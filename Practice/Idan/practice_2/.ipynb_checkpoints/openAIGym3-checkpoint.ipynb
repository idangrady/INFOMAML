{
 "cells": [
  {
   "cell_type": "markdown",
   "id": "eb3314b5",
   "metadata": {},
   "source": [
    "Tuturial URL : https://www.youtube.com/watch?v=wN3rxIKmMgE&list=PLIfPjWrv526bMF8_vx9BqWjec-F-g-lQO&index=3; Credit: \n",
    "TheComputerScientist\n",
    "\n",
    "\n",
    "Gym classic control Website\n",
    "https://gym.openai.com/envs/#classic_control"
   ]
  },
  {
   "cell_type": "code",
   "execution_count": 1,
   "id": "78b4b119",
   "metadata": {},
   "outputs": [],
   "source": [
    "# copy parts from previous buildup"
   ]
  },
  {
   "cell_type": "code",
   "execution_count": 1,
   "id": "f5ca0f47",
   "metadata": {},
   "outputs": [],
   "source": [
    "import gym\n",
    "import numpy as np\n",
    "import random as rd\n",
    "import time\n",
    "from gym.envs.registration import register\n",
    "from IPython.display import clear_output\n"
   ]
  },
  {
   "cell_type": "code",
   "execution_count": 2,
   "id": "edf3880d",
   "metadata": {},
   "outputs": [
    {
     "name": "stdout",
     "output_type": "stream",
     "text": [
      "Obsarvation_space: Discrete(16)\n",
      "action space low limit: Discrete(4)\n",
      "action space high limit: Discrete(4)\n"
     ]
    },
    {
     "data": {
      "text/plain": [
       "gym.spaces.discrete.Discrete"
      ]
     },
     "execution_count": 2,
     "metadata": {},
     "output_type": "execute_result"
    }
   ],
   "source": [
    "try:\n",
    "    register(\n",
    "        id=\"FrozenLakeNoSlip-v0\",\n",
    "        entry_point=\"gym.envs.toy_text:FrozenLakeEnv\",\n",
    "        kwargs={\"map_name\": \"4x4\", 'is_slippery':False},\n",
    "        max_episode_steps=100,\n",
    "        reward_threshold=0.70,  # optimum = 0.74\n",
    "    )\n",
    "except:\n",
    "    pass\n",
    "\n",
    "\n",
    "#import environment\n",
    "env_name = \"FrozenLakeNoSlip-v0\"\n",
    "env = gym.make(env_name)\n",
    "print(f\"Obsarvation_space: {env.observation_space}\")\n",
    "print(f\"action space low limit: {env.action_space}\")\n",
    "print(f\"action space high limit: {env.action_space}\")\n",
    "\n",
    "type(env.action_space)\n"
   ]
  },
  {
   "cell_type": "code",
   "execution_count": 7,
   "id": "2b083637",
   "metadata": {},
   "outputs": [],
   "source": [
    "class Agent():\n",
    "    def __init__(self, env):\n",
    "        #Initialisation\n",
    "        self.env = env\n",
    "        # check if the value is descrete or continous\n",
    "        print(type(env.action_space))\n",
    "        self.discrete =\\\n",
    "            type(env.action_space) == gym.spaces.discrete.Discrete\n",
    "        print(type(env.action_space))\n",
    "        print(self.discrete)\n",
    "        \n",
    "        if (self.discrete): # discrete\n",
    "            self.action_space_size = env.action_space.n\n",
    "            print(\"Discrete\")\n",
    "        else:\n",
    "            self.action_space_low = env.action_space.low # you add n at the end to give you the range\n",
    "            self.action_space_high = env.action_space.high\n",
    "            self.shape = env.action_space.shape\n",
    "        \n",
    "    def get_action(self,state):\n",
    "        if self.discrete:\n",
    "            return rd.choice(range(self.action_space_size))\n",
    "        else:\n",
    "            action = np.random.uniform(low =self.action_space_low, high = self.action_space_high, size = self.shape)\n",
    "            return(action)\n"
   ]
  },
  {
   "cell_type": "code",
   "execution_count": 20,
   "id": "8d9c9b87",
   "metadata": {},
   "outputs": [
    {
     "name": "stdout",
     "output_type": "stream",
     "text": [
      "<class 'gym.spaces.discrete.Discrete'>\n",
      "<class 'gym.spaces.discrete.Discrete'>\n",
      "True\n",
      "Discrete\n"
     ]
    }
   ],
   "source": [
    "class QAgent(Agent):\n",
    "    def __init__(self,env,discount_rate = 0.01, learning_rate = 0.01,opsilon = 1):\n",
    "        super().__init__(env)\n",
    "        self.action_space_size = env.action_space.n\n",
    "        self.state_size = env.observation_space.n\n",
    "        self.discount_rate = discount_rate\n",
    "        self.learning_rate = learning_rate\n",
    "        self.opsilon = opsilon\n",
    "        \n",
    "        # build a demi model to visualize and train the model\n",
    "        self.build_model()\n",
    "\n",
    "    def build_model(self):\n",
    "        self.q_table = 1e-4*np.random.random([self.state_size, self.action_space_size]) # This is very important for the initilization\n",
    "    \n",
    "    def get_action(self,state):\n",
    "        # calculate the expected value\n",
    "        q_curr_state = self.q_table[state]\n",
    "        # the best action would be the max if its sourounding ==> we get the index if the loc \n",
    "        return(np.argmax(q_curr_state))\n",
    "    \n",
    "    def train(self, experience):\n",
    "        state, action, next_state, reward, done = experience\n",
    "        \n",
    "        #Next state \n",
    "        q_next_state = self.q_curr_state[next_state]\n",
    "        q_next_state = np.zeros(self.action_space_size) if done else q_next_state\n",
    "        \n",
    "        #target\n",
    "        q_target = reward + discount_rate* np.max(q_next_state)\n",
    "        \n",
    "        #update : calculate the distance from the current state, to the target\n",
    "        q_update = q_target - self.q_curr_state(state, action)\n",
    "        self.q_table[state,action] += self.learning_rate *(q_update)\n",
    "        \n",
    "\n",
    "agent = QAgent(env)"
   ]
  },
  {
   "cell_type": "code",
   "execution_count": 14,
   "id": "9aa993ac",
   "metadata": {},
   "outputs": [
    {
     "name": "stdout",
     "output_type": "stream",
     "text": [
      "state: 12, action: 1\n",
      "  (Down)\n",
      "SFFF\n",
      "FHFH\n",
      "FFFH\n",
      "\u001b[41mH\u001b[0mFFG\n"
     ]
    }
   ],
   "source": [
    "agent = Agent(env)\n",
    "print(agent.get_action)\n",
    "state =env.reset() #reset environment\n",
    "n_itters = 1000\n",
    "\n",
    "done = False\n",
    "while not done:\n",
    "    #action\n",
    "    curr_act = agent.get_action(state)\n",
    "    #step\n",
    "    state,reward, done, info = env.step(curr_act)\n",
    "    print(f\"state: {state}, action: {curr_act}\")\n",
    "    #reward\n",
    "    #score\n",
    "    env.render()\n",
    "\n",
    "    time.sleep(0.5)\n",
    "    clear_output(wait=True)\n",
    "\n",
    "env.close()"
   ]
  },
  {
   "cell_type": "code",
   "execution_count": null,
   "id": "645dbe4b",
   "metadata": {},
   "outputs": [],
   "source": []
  }
 ],
 "metadata": {
  "kernelspec": {
   "display_name": "Python 3",
   "language": "python",
   "name": "python3"
  },
  "language_info": {
   "codemirror_mode": {
    "name": "ipython",
    "version": 3
   },
   "file_extension": ".py",
   "mimetype": "text/x-python",
   "name": "python",
   "nbconvert_exporter": "python",
   "pygments_lexer": "ipython3",
   "version": "3.8.8"
  }
 },
 "nbformat": 4,
 "nbformat_minor": 5
}
