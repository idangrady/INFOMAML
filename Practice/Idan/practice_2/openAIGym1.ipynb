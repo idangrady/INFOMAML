{
 "cells": [
  {
   "cell_type": "markdown",
   "id": "b175275e",
   "metadata": {},
   "source": [
    "Tutorial URL: https://www.youtube.com/watch?v=8MC3y7ASoPs&list=PLIfPjWrv526bMF8_vx9BqWjec-F-g-lQO ; Credit: TheComputerScientist"
   ]
  },
  {
   "cell_type": "code",
   "execution_count": 2,
   "id": "98476af0",
   "metadata": {},
   "outputs": [],
   "source": [
    "import gym\n",
    "import numpy as np\n",
    "import random as rd"
   ]
  },
  {
   "cell_type": "code",
   "execution_count": 3,
   "id": "2f20ea53",
   "metadata": {},
   "outputs": [
    {
     "name": "stdout",
     "output_type": "stream",
     "text": [
      "^C\n"
     ]
    }
   ],
   "source": [
    "! conda install pytorch torchvision torchaudio cudatoolkit=10.2 -c pytorch\n",
    "import pytorch"
   ]
  },
  {
   "cell_type": "code",
   "execution_count": 3,
   "id": "41b4a20c",
   "metadata": {},
   "outputs": [
    {
     "name": "stdout",
     "output_type": "stream",
     "text": [
      "Obsarvation_space: Box([-4.8000002e+00 -3.4028235e+38 -4.1887903e-01 -3.4028235e+38], [4.8000002e+00 3.4028235e+38 4.1887903e-01 3.4028235e+38], (4,), float32)\n",
      "action space: Discrete(2)\n"
     ]
    }
   ],
   "source": [
    "#import environment\n",
    "environment_name = \"CartPole-v1\"\n",
    "env = gym.make(environment_name)\n",
    "print(f\"Obsarvation_space: {env.observation_space}\")\n",
    "print(f\"action space: {env.action_space}\")\n",
    "\n",
    "obs = env.observation_space"
   ]
  },
  {
   "cell_type": "code",
   "execution_count": 12,
   "id": "9476d4aa",
   "metadata": {},
   "outputs": [],
   "source": [
    "class Agent():\n",
    "    def __init__(self, env):\n",
    "        #Initialisation\n",
    "        self.env = env\n",
    "        self.action_space = env.action_space.n # you add n at the end to give you the range\n",
    "        print(self.action_space)\n",
    "#        self.ovservation_space = env.obervation_sapce\n",
    "        \n",
    "    def get_action(self,state):\n",
    "        angle = state[2]\n",
    "        if(angle<=0): return 0\n",
    "        else: return 1\n",
    "\n",
    "            "
   ]
  },
  {
   "cell_type": "code",
   "execution_count": 13,
   "id": "65169c6a",
   "metadata": {},
   "outputs": [
    {
     "name": "stdout",
     "output_type": "stream",
     "text": [
      "2\n",
      "<bound method Agent.get_action of <__main__.Agent object at 0x0000016AD1556190>>\n"
     ]
    }
   ],
   "source": [
    "agent = Agent(env)\n",
    "print(agent.get_action)\n",
    "state =env.reset() #reset environment\n",
    "n_itters = 200\n",
    "\n",
    "\n",
    "for _ in range(n_itters):\n",
    "    \n",
    "    #action\n",
    "    curr_act = agent.get_action(state)\n",
    "    #step\n",
    "    state,reward, done, info = env.step(curr_act)\n",
    "    #reward\n",
    "    #score\n",
    "    \n",
    "    env.render()\n",
    "env.close()"
   ]
  },
  {
   "cell_type": "code",
   "execution_count": 14,
   "id": "8bf19b76",
   "metadata": {},
   "outputs": [],
   "source": [
    "# Reward is 1 for every step taken, including the termination step"
   ]
  }
 ],
 "metadata": {
  "kernelspec": {
   "display_name": "Python 3",
   "language": "python",
   "name": "python3"
  },
  "language_info": {
   "codemirror_mode": {
    "name": "ipython",
    "version": 3
   },
   "file_extension": ".py",
   "mimetype": "text/x-python",
   "name": "python",
   "nbconvert_exporter": "python",
   "pygments_lexer": "ipython3",
   "version": "3.8.8"
  }
 },
 "nbformat": 4,
 "nbformat_minor": 5
}
