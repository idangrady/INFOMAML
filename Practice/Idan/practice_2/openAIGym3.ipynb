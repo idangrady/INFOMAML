{
 "cells": [
  {
   "cell_type": "code",
   "execution_count": 1,
   "metadata": {},
   "outputs": [],
   "source": [
    "import gym\n",
    "import numpy as np\n",
    "import random as rd\n",
    "import time\n",
    "from gym.envs.registration import register\n",
    "from IPython.display import clear_output\n"
   ]
  },
  {
   "cell_type": "code",
   "execution_count": 2,
   "metadata": {},
   "outputs": [
    {
     "name": "stdout",
     "output_type": "stream",
     "text": [
      "Obsarvation_space: Discrete(16)\n",
      "action space low limit: Discrete(4)\n",
      "action space high limit: Discrete(4)\n"
     ]
    },
    {
     "data": {
      "text/plain": [
       "gym.spaces.discrete.Discrete"
      ]
     },
     "execution_count": 2,
     "metadata": {},
     "output_type": "execute_result"
    }
   ],
   "source": [
    "try:\n",
    "    register(\n",
    "        id=\"FrozenLakeNoSlip-v0\",\n",
    "        entry_point=\"gym.envs.toy_text:FrozenLakeEnv\",\n",
    "        kwargs={\"map_name\": \"4x4\", 'is_slippery':False},\n",
    "        max_episode_steps=100,\n",
    "        reward_threshold=0.70,  # optimum = 0.74\n",
    "    )\n",
    "except:\n",
    "    pass\n",
    "\n",
    "\n",
    "#import environment\n",
    "env_name = \"FrozenLakeNoSlip-v0\"\n",
    "env = gym.make(env_name)\n",
    "print(f\"Obsarvation_space: {env.observation_space}\")\n",
    "print(f\"action space low limit: {env.action_space}\")\n",
    "print(f\"action space high limit: {env.action_space}\")\n",
    "\n",
    "type(env.action_space)\n"
   ]
  },
  {
   "cell_type": "code",
   "execution_count": 3,
   "metadata": {},
   "outputs": [],
   "source": [
    "class Agent():\n",
    "    def __init__(self, env):\n",
    "        #Initialisation\n",
    "        self.env = env\n",
    "        # check if the value is descrete or continous\n",
    "        print(type(env.action_space))\n",
    "        self.discrete =\\\n",
    "            type(env.action_space) == gym.spaces.discrete.Discrete\n",
    "        print(type(env.action_space))\n",
    "        print(self.discrete)\n",
    "        \n",
    "        if (self.discrete): # discrete\n",
    "            self.action_space_size = env.action_space.n\n",
    "            print(\"Discrete\")\n",
    "        else:\n",
    "            self.action_space_low = env.action_space.low # you add n at the end to give you the range\n",
    "            self.action_space_high = env.action_space.high\n",
    "            self.shape = env.action_space.shape\n",
    "        \n",
    "    def get_action(self,state):\n",
    "        if self.discrete:\n",
    "            return rd.choice(range(self.action_space_size))\n",
    "        else:\n",
    "            action = np.random.uniform(low =self.action_space_low, high = self.action_space_high, size = self.shape)\n",
    "            return(action)\n"
   ]
  },
  {
   "cell_type": "code",
   "execution_count": 59,
   "metadata": {},
   "outputs": [
    {
     "name": "stdout",
     "output_type": "stream",
     "text": [
      "<class 'gym.spaces.discrete.Discrete'>\n",
      "<class 'gym.spaces.discrete.Discrete'>\n",
      "True\n",
      "Discrete\n",
      "QAgent\n",
      "build_model\n",
      "[[3.78540349e-05 6.45617047e-05 9.29082145e-05 7.07756280e-05]\n",
      " [6.52924492e-05 8.97977905e-05 3.50011393e-06 3.05581661e-06]\n",
      " [6.06448341e-05 6.39205748e-05 8.95941315e-05 4.12417284e-06]\n",
      " [9.50085476e-05 9.35193343e-05 5.05308920e-05 4.35834113e-05]\n",
      " [3.69503930e-06 5.94743069e-05 8.62182728e-05 4.75508418e-05]\n",
      " [5.94504001e-05 5.34967531e-05 2.26687433e-05 9.68791931e-05]\n",
      " [6.68275940e-05 9.44861799e-05 4.70711762e-05 1.12707572e-05]\n",
      " [8.49293466e-05 7.41098209e-05 6.47117669e-05 3.44250480e-05]\n",
      " [6.72043912e-06 7.56433157e-05 2.55300837e-05 1.44516711e-05]\n",
      " [1.00083225e-05 7.08419322e-05 3.50406285e-05 7.41504453e-05]\n",
      " [3.57578901e-05 3.24591838e-05 3.19303281e-05 9.37783963e-05]\n",
      " [3.87451323e-06 9.18402928e-05 1.28545873e-05 7.02115027e-05]\n",
      " [8.66412053e-05 3.42083182e-05 5.25716410e-05 1.68757842e-05]\n",
      " [1.26540989e-06 5.40510569e-05 8.24960456e-05 2.77921328e-05]\n",
      " [3.65140352e-05 9.49542633e-05 5.59764274e-05 6.67551426e-05]\n",
      " [9.69902152e-06 2.28815244e-06 6.32921132e-05 2.61324116e-05]]\n",
      "(16, 4)\n"
     ]
    }
   ],
   "source": [
    "class QAgent(Agent):\n",
    "    def __init__(self,env,discount_rate = 0.97, learning_rate = 0.01):\n",
    "        super().__init__(env)\n",
    "        print(\"QAgent\")\n",
    "        self.action_space_size = env.action_space.n\n",
    "        self.state_size = env.observation_space.n\n",
    "        self.discount_rate = discount_rate\n",
    "        self.learning_rate = learning_rate\n",
    "        self.opsilon = 1.0\n",
    "        \n",
    "        # build a demi model to visualize and train the model\n",
    "        self.build_model()\n",
    "\n",
    "    def build_model(self):\n",
    "        print(\"build_model\")\n",
    "\n",
    "        self.q_table = 1e-4*np.random.random([self.state_size, self.action_space_size]) # This is very important for the initilization\n",
    "        print(self.q_table)\n",
    "        print(self.q_table.shape)\n",
    "\n",
    "    def get_action(self,state):\n",
    "        print(\"Get Action\")\n",
    "        # calculate the expected value\n",
    "        print(f\"state: {state}\")\n",
    "        q_curr_state = self.q_table[state]\n",
    "        probability = np.random.uniform(0,1)\n",
    "\n",
    "        if probability >= self.opsilon:\n",
    "            action = np.argmax(q_curr_state)\n",
    "        else:\n",
    "            action = super().get_action(state)\n",
    "        # the best action would be the max if its sourounding ==> we get the index if the loc \n",
    "        # see that i\n",
    "        return(action)\n",
    "    \n",
    "    def train(self, experience):\n",
    "        state, action, next_state, reward, done = experience\n",
    "        \n",
    "        q_curr_state = self.q_table[state]\n",
    "        #Next state \n",
    "     \n",
    "        q_next_state = self.q_table[next_state]\n",
    "        q_next_state = np.zeros(self.action_space_size) if done else q_next_state\n",
    "        \n",
    "        #target\n",
    "        q_target = reward + self.discount_rate* np.max(q_next_state)\n",
    "\n",
    "        #update : calculate the distance from the current state, to the target\n",
    "        q_update = q_target - self.q_table[state, action]\n",
    "        print(f\"q_update: {q_update}\")\n",
    "        self.q_table[state,action] += self.learning_rate *(q_update)\n",
    "\n",
    "        if done:\n",
    "            self.opsilon  =  self.opsilon *0.99\n",
    "        \n",
    "\n",
    "agent = QAgent(env)"
   ]
  },
  {
   "cell_type": "code",
   "execution_count": 62,
   "metadata": {},
   "outputs": [
    {
     "name": "stdout",
     "output_type": "stream",
     "text": [
      "Get Action\n",
      "state: 0\n",
      "Current_Action index: 0\n",
      "Experience: (0, 0, 0, 0.0, False)\n",
      "q_update: -2.2370954998849224e-06\n",
      "0\n",
      "state: 0, action: 0, epsolin = 0.17398982847626407, total_reward: 0.0\n",
      "  (Left)\n",
      "\u001b[41mS\u001b[0mFFF\n",
      "FHFH\n",
      "FFFH\n",
      "HFFG\n"
     ]
    }
   ],
   "source": [
    "\n",
    "agent = QAgent(env)\n",
    "\n",
    "print(agent.get_action)\n",
    "n_itters = 1000\n",
    "total_reward = 0\n",
    "\n",
    "for itter in range(n_itters):\n",
    "    state =env.reset() #reset environment\n",
    "    done = False\n",
    "    while not done:\n",
    "        #action\n",
    "        curr_act = agent.get_action(state)\n",
    "        print(f\"Current_Action index: {curr_act}\")\n",
    "        #step : env.step(curr_act) returns the next step \n",
    "        state_next,reward, done, info = env.step(curr_act)\n",
    "\n",
    "        experience_ = (state,curr_act,state_next,reward, done)\n",
    "        print(f\"Experience: {experience_}\")\n",
    "        # train \n",
    "        agent.train(experience = experience_)\n",
    "        print(state)\n",
    "        state = state_next\n",
    "        total_reward += reward\n",
    "\n",
    "        #state, action, next_state, reward, done\n",
    "        print(f\"state: {state}, action: {curr_act}, epsolin = {agent.opsilon}, total_reward: {total_reward}\")\n",
    "        #reward\n",
    "        #print(agent.q_table)\n",
    "        env.render()\n",
    "        #score\n",
    "\n",
    "        time.sleep(0.05)\n",
    "        clear_output(wait=True) # flush the notbook outpur so I see the same thing over itself \n",
    "\n",
    "env.close()"
   ]
  },
  {
   "cell_type": "code",
   "execution_count": null,
   "metadata": {},
   "outputs": [],
   "source": []
  }
 ],
 "metadata": {
  "interpreter": {
   "hash": "59506e3267c903511e7697cc8f12bba02951348adc30c0306c51977b1a6c809f"
  },
  "kernelspec": {
   "display_name": "Python 3.9.1 64-bit (conda)",
   "language": "python",
   "name": "python3"
  },
  "language_info": {
   "codemirror_mode": {
    "name": "ipython",
    "version": 3
   },
   "file_extension": ".py",
   "mimetype": "text/x-python",
   "name": "python",
   "nbconvert_exporter": "python",
   "pygments_lexer": "ipython3",
   "version": "3.9.7"
  },
  "orig_nbformat": 4
 },
 "nbformat": 4,
 "nbformat_minor": 2
}
