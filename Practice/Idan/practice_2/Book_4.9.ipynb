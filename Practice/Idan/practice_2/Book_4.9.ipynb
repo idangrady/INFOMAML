{
 "cells": [
  {
   "cell_type": "code",
   "execution_count": 12,
   "metadata": {},
   "outputs": [
    {
     "name": "stdout",
     "output_type": "stream",
     "text": [
      "{0: 0.049787068367863944, 1: 0.14936120510359183, 2: 0.22404180765538775, 3: 0.22404180765538775, 4: 0.16803135574154082, 5: 0.10081881344492448, 6: 0.05040940672246224, 7: 0.02160403145248382, 8: 0.008101511794681432, 9: 0.0027005039315604776, 10: 0.0008101511794681432, 11: 0.00022095032167312995, 12: 5.523758041828249e-05, 13: 1.2747133942680574e-05, 14: 2.73152870200298e-06, 15: 5.46305740400596e-07, 16: 1.0243232632511176e-07, 17: 1.8076292880902075e-08, 18: 3.012715480150346e-09, 19: 4.756919179184757e-10, 20: 1.6538708469092525e-11}\n"
     ]
    }
   ],
   "source": [
    "import numpy as np\n",
    "\n",
    "\n",
    "def poisson_calculator(Lambda=3):\n",
    "    \"\"\"\n",
    "    input:\n",
    "        lambda: the expectation number of poisson random distribution\n",
    "    return:\n",
    "        A dictionary: {value:possibility}\n",
    "    \"\"\"\n",
    "    result = {}\n",
    "    for i in range(0, 21):\n",
    "        result[i] = max(np.finfo(float).eps, abs((np.power(Lambda, i) / (np.math.factorial(i))) * np.exp(-Lambda)))\n",
    "    return result\n",
    "\n",
    "\n",
    "print(poisson_calculator())"
   ]
  },
  {
   "cell_type": "code",
   "execution_count": 19,
   "metadata": {},
   "outputs": [],
   "source": [
    "\"\"\"\n",
    "On each flip, the gambler must decide what portion of his capital to stake ==> int\n",
    "ph = 0.25 \n",
    "ph = 0.55\n",
    "\"\"\"\n",
    "goal = 100\n",
    "state_Q = list(np.linspace(0,100,101,dtype=int))\n",
    "capital = list(np.linspace(0,0,101,dtype=int))\n",
    "\n",
    "\n",
    "def flip(pai):\n",
    "    \"\"\"\n",
    "    generate the probabilities based on the given pai\n",
    "    1: The flip turn out head\n",
    "    0: the flip turn our back\n",
    "    \"\"\"\n",
    "    probability_general = np.random.uniform(0,1)\n",
    "    if pai<probability_general: return (0)\n",
    "    else: return (1)\n",
    "\n",
    "def reward():\n",
    "    pass\n",
    "\n",
    "def train(): \n",
    "    num_itter = 100\n",
    "\n",
    "    for s in range(0, len(state_Q)):\n",
    "\n",
    "        for a in range(0,100-s +1):\n",
    "            state_Q_a = list(np.linspace(0,100,101,dtype=int))\n",
    "            capital_a = list(np.linspace(0,0,101,dtype=int))\n",
    "\n",
    "            state_Q_a[a] = 0\n",
    "            \n",
    "\n",
    "\n",
    "\n",
    " "
   ]
  },
  {
   "cell_type": "code",
   "execution_count": 18,
   "metadata": {},
   "outputs": [
    {
     "data": {
      "text/plain": [
       "array([0, 0, 0, 0, 0, 0, 0, 0, 0, 0, 0, 0, 0, 0, 0, 0, 0, 0, 0, 0, 0, 0,\n",
       "       0, 0, 0, 0, 0, 0, 0, 0, 0, 0, 0, 0, 0, 0, 0, 0, 0, 0, 0, 0, 0, 0,\n",
       "       0, 0, 0, 0, 0, 0, 0, 0, 0, 0, 0, 0, 0, 0, 0, 0, 0, 0, 0, 0, 0, 0,\n",
       "       0, 0, 0, 0, 0, 0, 0, 0, 0, 0, 0, 0, 0, 0, 0, 0, 0, 0, 0, 0, 0, 0,\n",
       "       0, 0, 0, 0, 0, 0, 0, 0, 0, 0, 0, 0, 0])"
      ]
     },
     "execution_count": 18,
     "metadata": {},
     "output_type": "execute_result"
    }
   ],
   "source": [
    "np.linspace(0,0,101,dtype=int)"
   ]
  },
  {
   "cell_type": "code",
   "execution_count": 17,
   "metadata": {},
   "outputs": [
    {
     "data": {
      "text/plain": [
       "array([  0,   1,   2,   3,   4,   5,   6,   7,   8,   9,  10,  11,  12,\n",
       "        13,  14,  15,  16,  17,  18,  19,  20,  21,  22,  23,  24,  25,\n",
       "        26,  27,  28,  29,  30,  31,  32,  33,  34,  35,  36,  37,  38,\n",
       "        39,  40,  41,  42,  43,  44,  45,  46,  47,  48,  49,  50,  51,\n",
       "        52,  53,  54,  55,  56,  57,  58,  59,  60,  61,  62,  63,  64,\n",
       "        65,  66,  67,  68,  69,  70,  71,  72,  73,  74,  75,  76,  77,\n",
       "        78,  79,  80,  81,  82,  83,  84,  85,  86,  87,  88,  89,  90,\n",
       "        91,  92,  93,  94,  95,  96,  97,  98,  99, 100])"
      ]
     },
     "execution_count": 17,
     "metadata": {},
     "output_type": "execute_result"
    }
   ],
   "source": []
  },
  {
   "cell_type": "code",
   "execution_count": 20,
   "metadata": {},
   "outputs": [],
   "source": [
    "def train(ph=0.4, Theta=0.000001):\n",
    "    V = [0]*100\n",
    "    for i in range(0, 100):\n",
    "        V[i] = np.random.random() * 1000\n",
    "    V[0] = 0\n",
    "    pi = [0]*100\n",
    "    counter = 1\n",
    "\n",
    "    \n",
    "    while True:\n",
    "        Delta = 0\n",
    "        for s in range(1, 100):  # for each state\n",
    "            old_v = V[s]\n",
    "            v = [0] * 51\n",
    "            for a in range(1, min(s, 100 - s) + 1):\n",
    "                v[a] = 0\n",
    "                if a + s < 100:\n",
    "                    v[a] += ph * (0 + V[s + a])\n",
    "                    v[a] += (1 - ph) * (0 + V[s - a])\n",
    "                elif a + s == 100:\n",
    "                    v[a] += ph\n",
    "                    v[a] += (1 - ph) * (0 + V[s - a])\n",
    "            op_a = np.argmax(v)\n",
    "            pi[s] = op_a\n",
    "            V[s] = v[op_a]\n",
    "            Delta = max(Delta, abs(old_v - V[s]))\n",
    "        counter += 1\n",
    "        if counter % 1000 == 0:\n",
    "            print(\"train loop\" + str(counter))\n",
    "            print(\"Delta =\" + str(Delta))\n",
    "        if Delta < Theta:\n",
    "            break\n",
    "    return [V[1:100], pi[1:100]]\n",
    "\n",
    "[V1, pi1] = train(ph=0.4)"
   ]
  },
  {
   "cell_type": "code",
   "execution_count": 16,
   "metadata": {},
   "outputs": [
    {
     "name": "stdout",
     "output_type": "stream",
     "text": [
      "51\n"
     ]
    }
   ],
   "source": [
    "import time\n",
    "from IPython.display import clear_output\n",
    "import numpy as np\n",
    "\n",
    "V = [0]*100\n",
    "for s in range(1, 100):  # for each state\n",
    "    for s in range(1, 100):  # for each state\n",
    "                old_v = V[s]\n",
    "                v = [0] * 51\n",
    "print(len(v))"
   ]
  },
  {
   "cell_type": "code",
   "execution_count": 23,
   "metadata": {},
   "outputs": [
    {
     "name": "stdout",
     "output_type": "stream",
     "text": [
      "[0, 0, 0, 0, 3, 5, 6, 6, 8, 9, 1, 11, 12, 12, 14, 15, 3, 8, 7, 19, 20, 4, 22, 23, 24, 25, 1, 2, 3, 4, 20, 6, 7, 8, 9, 10, 14, 12, 38, 11, 10, 9, 8, 7, 6, 5, 4, 3, 2, 1, 50, 1, 2, 3, 4, 5, 44, 7, 8, 41, 10, 11, 12, 13, 14, 35, 9, 8, 7, 6, 5, 4, 3, 2, 1, 25, 1, 2, 3, 4, 20, 6, 7, 8, 9, 15, 11, 12, 12, 11, 10, 9, 8, 7, 6, 5, 4, 3, 2, 1]\n"
     ]
    }
   ],
   "source": [
    "ph = 0.4\n",
    "pi = [0]*100\n",
    "Delta = 0\n",
    "\n",
    "for s in range(1, 100):  # for each state\n",
    "        old_v = V[s]\n",
    "        v = [0] * 51\n",
    "        for a in range(1, min(s, 100 - s) + 1):\n",
    "            v[a] = 0\n",
    "            if a + s < 100:\n",
    "                v[a] += ph * (0 + V[s + a])\n",
    "                v[a] += (1 - ph) * (0 + V[s - a])\n",
    "                #print(v)\n",
    "            elif a + s == 100:\n",
    "                v[a] += ph\n",
    "                v[a] += (1 - ph) * (0 + V[s - a])\n",
    "                #print(v)\n",
    "\n",
    "        op_a = np.argmax(v)\n",
    "        pi[s] = op_a\n",
    "        V[s] = v[op_a]\n",
    "        Delta = max(Delta, abs(old_v - V[s]))\n",
    "        print(pi)\n",
    "            \n",
    "            \n",
    "        time.sleep(0.1)\n",
    "        \n",
    "        clear_output(wait=True)\n",
    "            \n"
   ]
  },
  {
   "cell_type": "code",
   "execution_count": null,
   "metadata": {},
   "outputs": [],
   "source": []
  },
  {
   "cell_type": "code",
   "execution_count": 30,
   "metadata": {},
   "outputs": [
    {
     "data": {
      "text/plain": [
       "0.029877053575836032"
      ]
     },
     "execution_count": 30,
     "metadata": {},
     "output_type": "execute_result"
    }
   ],
   "source": [
    "np.random.random()\n"
   ]
  },
  {
   "cell_type": "code",
   "execution_count": null,
   "metadata": {},
   "outputs": [],
   "source": []
  }
 ],
 "metadata": {
  "interpreter": {
   "hash": "59506e3267c903511e7697cc8f12bba02951348adc30c0306c51977b1a6c809f"
  },
  "kernelspec": {
   "display_name": "Python 3.9.7 64-bit (conda)",
   "language": "python",
   "name": "python3"
  },
  "language_info": {
   "codemirror_mode": {
    "name": "ipython",
    "version": 3
   },
   "file_extension": ".py",
   "mimetype": "text/x-python",
   "name": "python",
   "nbconvert_exporter": "python",
   "pygments_lexer": "ipython3",
   "version": "3.9.7"
  },
  "orig_nbformat": 4
 },
 "nbformat": 4,
 "nbformat_minor": 2
}
