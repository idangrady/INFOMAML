{
 "cells": [
  {
   "cell_type": "code",
   "execution_count": 2,
   "id": "43b1d89a-0418-4db2-96c0-32067d13a03d",
   "metadata": {},
   "outputs": [
    {
     "name": "stdout",
     "output_type": "stream",
     "text": [
      "Collecting gym_super_mario_bros==7.3.0\n",
      "  Using cached gym_super_mario_bros-7.3.0-py2.py3-none-any.whl (198 kB)\n",
      "Collecting nes_py\n",
      "  Using cached nes_py-8.1.8.tar.gz (76 kB)\n",
      "Requirement already satisfied: gym>=0.17.2 in c:\\users\\gil grady\\anaconda3\\lib\\site-packages (from nes_py) (0.21.0)\n",
      "Requirement already satisfied: numpy>=1.18.5 in c:\\users\\gil grady\\anaconda3\\lib\\site-packages (from nes_py) (1.20.3)\n",
      "Requirement already satisfied: pyglet<=1.5.11,>=1.4.0 in c:\\users\\gil grady\\anaconda3\\lib\\site-packages (from nes_py) (1.5.11)\n",
      "Requirement already satisfied: tqdm>=4.48.2 in c:\\users\\gil grady\\anaconda3\\lib\\site-packages (from nes_py) (4.62.3)\n",
      "Requirement already satisfied: importlib-metadata>=4.8.1 in c:\\users\\gil grady\\anaconda3\\lib\\site-packages (from gym>=0.17.2->nes_py) (4.8.1)\n",
      "Requirement already satisfied: cloudpickle>=1.2.0 in c:\\users\\gil grady\\anaconda3\\lib\\site-packages (from gym>=0.17.2->nes_py) (2.0.0)\n",
      "Requirement already satisfied: typing-extensions>=3.6.4 in c:\\users\\gil grady\\anaconda3\\lib\\site-packages (from importlib-metadata>=4.8.1->gym>=0.17.2->nes_py) (3.10.0.2)\n",
      "Requirement already satisfied: zipp>=0.5 in c:\\users\\gil grady\\anaconda3\\lib\\site-packages (from importlib-metadata>=4.8.1->gym>=0.17.2->nes_py) (3.6.0)\n",
      "Requirement already satisfied: colorama in c:\\users\\gil grady\\anaconda3\\lib\\site-packages (from tqdm>=4.48.2->nes_py) (0.4.4)\n",
      "Building wheels for collected packages: nes-py\n",
      "  Building wheel for nes-py (setup.py): started\n",
      "  Building wheel for nes-py (setup.py): finished with status 'error'\n",
      "  Running setup.py clean for nes-py\n",
      "Failed to build nes-py\n",
      "Installing collected packages: nes-py, gym-super-mario-bros\n",
      "    Running setup.py install for nes-py: started\n",
      "    Running setup.py install for nes-py: finished with status 'error'\n",
      "Note: you may need to restart the kernel to use updated packages.\n"
     ]
    },
    {
     "name": "stderr",
     "output_type": "stream",
     "text": [
      "  ERROR: Command errored out with exit status 1:\n",
      "   command: 'C:\\Users\\Gil Grady\\anaconda3\\python.exe' -u -c 'import io, os, sys, setuptools, tokenize; sys.argv[0] = '\"'\"'C:\\\\Users\\\\GILGRA~1\\\\AppData\\\\Local\\\\Temp\\\\pip-install-s8t17h6y\\\\nes-py_6ef583c31e194827bbc658933814217a\\\\setup.py'\"'\"'; __file__='\"'\"'C:\\\\Users\\\\GILGRA~1\\\\AppData\\\\Local\\\\Temp\\\\pip-install-s8t17h6y\\\\nes-py_6ef583c31e194827bbc658933814217a\\\\setup.py'\"'\"';f = getattr(tokenize, '\"'\"'open'\"'\"', open)(__file__) if os.path.exists(__file__) else io.StringIO('\"'\"'from setuptools import setup; setup()'\"'\"');code = f.read().replace('\"'\"'\\r\\n'\"'\"', '\"'\"'\\n'\"'\"');f.close();exec(compile(code, __file__, '\"'\"'exec'\"'\"'))' bdist_wheel -d 'C:\\Users\\GILGRA~1\\AppData\\Local\\Temp\\pip-wheel-aw_idlvw'\n",
      "       cwd: C:\\Users\\GILGRA~1\\AppData\\Local\\Temp\\pip-install-s8t17h6y\\nes-py_6ef583c31e194827bbc658933814217a\\\n",
      "  Complete output (21 lines):\n",
      "  running bdist_wheel\n",
      "  running build\n",
      "  running build_py\n",
      "  creating build\n",
      "  creating build\\lib.win-amd64-3.7\n",
      "  creating build\\lib.win-amd64-3.7\\nes_py\n",
      "  copying nes_py\\nes_env.py -> build\\lib.win-amd64-3.7\\nes_py\n",
      "  copying nes_py\\_image_viewer.py -> build\\lib.win-amd64-3.7\\nes_py\n",
      "  copying nes_py\\_rom.py -> build\\lib.win-amd64-3.7\\nes_py\n",
      "  copying nes_py\\__init__.py -> build\\lib.win-amd64-3.7\\nes_py\n",
      "  creating build\\lib.win-amd64-3.7\\nes_py\\app\n",
      "  copying nes_py\\app\\cli.py -> build\\lib.win-amd64-3.7\\nes_py\\app\n",
      "  copying nes_py\\app\\play_human.py -> build\\lib.win-amd64-3.7\\nes_py\\app\n",
      "  copying nes_py\\app\\play_random.py -> build\\lib.win-amd64-3.7\\nes_py\\app\n",
      "  copying nes_py\\app\\__init__.py -> build\\lib.win-amd64-3.7\\nes_py\\app\n",
      "  creating build\\lib.win-amd64-3.7\\nes_py\\wrappers\n",
      "  copying nes_py\\wrappers\\joypad_space.py -> build\\lib.win-amd64-3.7\\nes_py\\wrappers\n",
      "  copying nes_py\\wrappers\\__init__.py -> build\\lib.win-amd64-3.7\\nes_py\\wrappers\n",
      "  running build_ext\n",
      "  building 'nes_py.lib_nes_env' extension\n",
      "  error: Microsoft Visual C++ 14.0 or greater is required. Get it with \"Microsoft C++ Build Tools\": https://visualstudio.microsoft.com/visual-cpp-build-tools/\n",
      "  ----------------------------------------\n",
      "  ERROR: Failed building wheel for nes-py\n",
      "    ERROR: Command errored out with exit status 1:\n",
      "     command: 'C:\\Users\\Gil Grady\\anaconda3\\python.exe' -u -c 'import io, os, sys, setuptools, tokenize; sys.argv[0] = '\"'\"'C:\\\\Users\\\\GILGRA~1\\\\AppData\\\\Local\\\\Temp\\\\pip-install-s8t17h6y\\\\nes-py_6ef583c31e194827bbc658933814217a\\\\setup.py'\"'\"'; __file__='\"'\"'C:\\\\Users\\\\GILGRA~1\\\\AppData\\\\Local\\\\Temp\\\\pip-install-s8t17h6y\\\\nes-py_6ef583c31e194827bbc658933814217a\\\\setup.py'\"'\"';f = getattr(tokenize, '\"'\"'open'\"'\"', open)(__file__) if os.path.exists(__file__) else io.StringIO('\"'\"'from setuptools import setup; setup()'\"'\"');code = f.read().replace('\"'\"'\\r\\n'\"'\"', '\"'\"'\\n'\"'\"');f.close();exec(compile(code, __file__, '\"'\"'exec'\"'\"'))' install --record 'C:\\Users\\GILGRA~1\\AppData\\Local\\Temp\\pip-record-ypyo3pos\\install-record.txt' --single-version-externally-managed --compile --install-headers 'C:\\Users\\Gil Grady\\anaconda3\\Include\\nes-py'\n",
      "         cwd: C:\\Users\\GILGRA~1\\AppData\\Local\\Temp\\pip-install-s8t17h6y\\nes-py_6ef583c31e194827bbc658933814217a\\\n",
      "    Complete output (21 lines):\n",
      "    running install\n",
      "    running build\n",
      "    running build_py\n",
      "    creating build\n",
      "    creating build\\lib.win-amd64-3.7\n",
      "    creating build\\lib.win-amd64-3.7\\nes_py\n",
      "    copying nes_py\\nes_env.py -> build\\lib.win-amd64-3.7\\nes_py\n",
      "    copying nes_py\\_image_viewer.py -> build\\lib.win-amd64-3.7\\nes_py\n",
      "    copying nes_py\\_rom.py -> build\\lib.win-amd64-3.7\\nes_py\n",
      "    copying nes_py\\__init__.py -> build\\lib.win-amd64-3.7\\nes_py\n",
      "    creating build\\lib.win-amd64-3.7\\nes_py\\app\n",
      "    copying nes_py\\app\\cli.py -> build\\lib.win-amd64-3.7\\nes_py\\app\n",
      "    copying nes_py\\app\\play_human.py -> build\\lib.win-amd64-3.7\\nes_py\\app\n",
      "    copying nes_py\\app\\play_random.py -> build\\lib.win-amd64-3.7\\nes_py\\app\n",
      "    copying nes_py\\app\\__init__.py -> build\\lib.win-amd64-3.7\\nes_py\\app\n",
      "    creating build\\lib.win-amd64-3.7\\nes_py\\wrappers\n",
      "    copying nes_py\\wrappers\\joypad_space.py -> build\\lib.win-amd64-3.7\\nes_py\\wrappers\n",
      "    copying nes_py\\wrappers\\__init__.py -> build\\lib.win-amd64-3.7\\nes_py\\wrappers\n",
      "    running build_ext\n",
      "    building 'nes_py.lib_nes_env' extension\n",
      "    error: Microsoft Visual C++ 14.0 or greater is required. Get it with \"Microsoft C++ Build Tools\": https://visualstudio.microsoft.com/visual-cpp-build-tools/\n",
      "    ----------------------------------------\n",
      "ERROR: Command errored out with exit status 1: 'C:\\Users\\Gil Grady\\anaconda3\\python.exe' -u -c 'import io, os, sys, setuptools, tokenize; sys.argv[0] = '\"'\"'C:\\\\Users\\\\GILGRA~1\\\\AppData\\\\Local\\\\Temp\\\\pip-install-s8t17h6y\\\\nes-py_6ef583c31e194827bbc658933814217a\\\\setup.py'\"'\"'; __file__='\"'\"'C:\\\\Users\\\\GILGRA~1\\\\AppData\\\\Local\\\\Temp\\\\pip-install-s8t17h6y\\\\nes-py_6ef583c31e194827bbc658933814217a\\\\setup.py'\"'\"';f = getattr(tokenize, '\"'\"'open'\"'\"', open)(__file__) if os.path.exists(__file__) else io.StringIO('\"'\"'from setuptools import setup; setup()'\"'\"');code = f.read().replace('\"'\"'\\r\\n'\"'\"', '\"'\"'\\n'\"'\"');f.close();exec(compile(code, __file__, '\"'\"'exec'\"'\"'))' install --record 'C:\\Users\\GILGRA~1\\AppData\\Local\\Temp\\pip-record-ypyo3pos\\install-record.txt' --single-version-externally-managed --compile --install-headers 'C:\\Users\\Gil Grady\\anaconda3\\Include\\nes-py' Check the logs for full command output.\n"
     ]
    }
   ],
   "source": [
    "pip install gym_super_mario_bros==7.3.0 nes_py"
   ]
  },
  {
   "cell_type": "code",
   "execution_count": null,
   "id": "9a4e8166-6259-41f2-9ff4-73c394b39c5f",
   "metadata": {},
   "outputs": [],
   "source": []
  }
 ],
 "metadata": {
  "kernelspec": {
   "display_name": "Python 3 (ipykernel)",
   "language": "python",
   "name": "python3"
  },
  "language_info": {
   "codemirror_mode": {
    "name": "ipython",
    "version": 3
   },
   "file_extension": ".py",
   "mimetype": "text/x-python",
   "name": "python",
   "nbconvert_exporter": "python",
   "pygments_lexer": "ipython3",
   "version": "3.7.11"
  }
 },
 "nbformat": 4,
 "nbformat_minor": 5
}
