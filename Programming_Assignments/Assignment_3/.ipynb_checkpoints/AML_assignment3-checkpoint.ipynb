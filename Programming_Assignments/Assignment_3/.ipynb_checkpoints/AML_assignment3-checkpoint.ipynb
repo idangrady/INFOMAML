{
 "cells": [
  {
   "cell_type": "markdown",
   "metadata": {},
   "source": [
    "# Advanced Machine Learning - programming assignment 3\n",
    "\n",
    "*Due: Friday January 14*\n",
    "\n",
    "*Grading: 10 points total*"
   ]
  },
  {
   "cell_type": "markdown",
   "metadata": {},
   "source": [
    "**Please fill in:**\n",
    "* name 1 (student id 1)\n",
    "* name 2 (student id 2)"
   ]
  },
  {
   "cell_type": "markdown",
   "metadata": {},
   "source": [
    "### Further instructions:\n",
    "* Make sure your code is properly commented.\n",
    "* Submit your code in Blackboard using one of your accounts; we will put the grade in Blackboard for the other team member as well.\n",
    "* **Make sure to name the submitted file according to your and your collaborators last name.** (`submitter_collaborator.ipynb`)"
   ]
  },
  {
   "cell_type": "markdown",
   "metadata": {},
   "source": [
    "## Structural causal models\n",
    "In this programming assignment, we will look at data from a structural causal model, and see how we can estimate the causal effect of $X$ on $Y$ from these data. The model consists of three variables:\n",
    "\n",
    "* $X$ is the treatment: the dosage of a drug taken by a patient;\n",
    "* $Y$ is the outcome: a numerical score reflecting how well the patient recovered;\n",
    "* $Z$ is an additional variable that summarizes relevant genetic information about a patient.\n",
    "\n",
    "$Y$ and $Z$ are continuous (real-valued), while $X$ is discrete.\n",
    "\n",
    "The following code generates and plots observational data from this model."
   ]
  },
  {
   "cell_type": "code",
   "execution_count": 1,
   "metadata": {},
   "outputs": [],
   "source": [
    "import numpy as np\n",
    "from sklearn import linear_model\n",
    "import matplotlib.pyplot as plt\n",
    "\n",
    "# The following three functions implement the structural equations of an SCM with three\n",
    "# endogenous variables X, Y, and Z. Each endogenous variable in this SCM has one exogenous\n",
    "# parent (unnamed) whose value is sampled by the corresponding function. Each of these\n",
    "# functions operates on numpy arrays of length num_samples, where num_samples is the\n",
    "# number of data points.\n",
    "def f_Z(num_samples):\n",
    "    return 4 * np.random.random(size=num_samples) + 4 * np.random.random(size=num_samples)\n",
    "def f_X(z, num_samples):\n",
    "    x_cont = z + np.random.normal(loc=0.0, scale=1.0, size=num_samples)\n",
    "    return np.clip(2 * np.around(0.5 * (x_cont)), 0, 10).astype(dtype=int)\n",
    "def f_Y(z, x, num_samples):\n",
    "    return 2*z - x + np.random.normal(loc=0.0, scale=0.4, size=num_samples)\n",
    "\n",
    "# Generate data from the observational distribution.\n",
    "def generate_observational_data(num_samples):\n",
    "    z = f_Z(num_samples)\n",
    "    x = f_X(z, num_samples)\n",
    "    y = f_Y(z, x, num_samples)\n",
    "    return (x, y, z)\n",
    "\n",
    "num_samples_obs = 1000\n",
    "\n",
    "x, y, z = generate_observational_data(num_samples_obs)"
   ]
  },
  {
   "cell_type": "markdown",
   "metadata": {},
   "source": [
    "**Task (1 point):** Use any supervised learning method of your choice to fit a function from $X$ to $Y$ to these data. (So $X$ is the only feature; $Z$ is not used. Note that you are *not* asked to validate or test your fit here.) Make a new plot that displays both the data points and your fitted function, for $x$ in the range $[0,10]$.\n",
    "\n",
    "\n",
    "To plot a regression curve, first use a function like `np.linspace` to create an array of neatly ordered x-values. Then have your trained machine learning model predict the y-values corresponding to those x-values."
   ]
  },
  {
   "cell_type": "code",
   "execution_count": 5,
   "metadata": {},
   "outputs": [],
   "source": [
    "from sklearn.linear_model import LinearRegression\n",
    "from sklearn.model_selection import train_test_split\n",
    "#split\n",
    "x_train, x_test, y_train, y_test = train_test_split(x, y, test_size=0.2, random_state=123)\n",
    "\n",
    "#clip\n",
    "x_train = np.clip(x_train,0,10)\n",
    "x_test= np.clip(x_test,0,10)\n",
    "#prediction\n",
    "model = LinearRegression()\n",
    "model.fit(x_train,y_train)\n",
    "predict = model.predict(x_test)"
   ]
  },
  {
   "cell_type": "code",
   "execution_count": 69,
   "metadata": {},
   "outputs": [
    {
     "name": "stdout",
     "output_type": "stream",
     "text": [
      "[0. 1. 2. 3. 4. 5. 6. 7. 8.]\n"
     ]
    },
    {
     "data": {
      "image/png": "[encoded data removed]",
      "text/plain": [
       "<Figure size 432x288 with 1 Axes>"
      ]
     },
     "metadata": {
      "needs_background": "light"
     },
     "output_type": "display_data"
    }
   ],
   "source": [
    "#plot\n",
    "plt.scatter(predict, y_test)\n",
    "\n",
    "reg_curve = np.linspace(x_test.min(), x_test.max(), int(x_test.max()- x_test.min() + 1))\n",
    "m, b = np.polyfit(np.squeeze(x_test), y_test, 1)\n",
    "\n",
    "plt.plot(np.squeeze(x_test), m*np.squeeze(x_test) + b)\n",
    "\n",
    "print(reg_curve)\n",
    "plt.show()"
   ]
  },
  {
   "cell_type": "markdown",
   "metadata": {},
   "source": [
    "Look at the code of `f_X`, `f_Y`, `f_Z`, and `generate_observational_data` to answer the following questions.\n",
    "\n",
    "**Question (1 point):** For each endogenous variable, what other endogenous variables are the direct causes? For each such relation between two variables, explain what the presence of this relation means in the real world, where the three variables represent treatment, outcome, and genetic information."
   ]
  },
  {
   "cell_type": "markdown",
   "metadata": {},
   "source": [
    "*Your answer here*"
   ]
  },
  {
   "cell_type": "markdown",
   "metadata": {},
   "source": [
    "## Intervening on the system\n",
    "\n",
    "Now we will consider what happens if we intervene on the system by prescribing certain dosages of the drug.\n",
    "\n",
    "**Task (1 point):** Complete the following function, which is analogous to the function `generate_observational_data`, except now instead of observational data, each data point $(x_i, y_i, z_i)$ should be generated from the interventional distribution with $do(X=x_i)$. The values $x_i$ are specified by the array `x`, which is the first argument of this function."
   ]
  },
  {
   "cell_type": "code",
   "execution_count": 4,
   "metadata": {},
   "outputs": [],
   "source": [
    "def generate_experimental_data(x, num_samples):\n",
    "    # Generate data under intervention do(X=x[i]). x is a vector of length num_samples.\n",
    "    # Your code here\n",
    "    # return (x, y, z)\n",
    "    return (x, x, x) # temporary: remove this when your code is in place"
   ]
  },
  {
   "cell_type": "markdown",
   "metadata": {},
   "source": [
    "We will look at interventional data where for each data point, the dosage is chosen uniformly at random from the set $\\{0,2,4,8\\}$, independently for each individual."
   ]
  },
  {
   "cell_type": "code",
   "execution_count": 5,
   "metadata": {},
   "outputs": [],
   "source": [
    "num_samples_exp = 200\n",
    "\n",
    "# Set the values of x according to the distribution specified above, then generate the whole data\n",
    "# under the intervention do(X=x).\n",
    "x_exp = np.random.choice(np.array([0, 2, 4, 8], dtype=int), size=num_samples_exp)\n",
    "(x_exp, y_exp, z_exp) = generate_experimental_data(x_exp, num_samples_exp)"
   ]
  },
  {
   "cell_type": "markdown",
   "metadata": {},
   "source": [
    "**Task (0.5 points):** Plot these experimental data in the same way as before, again including the curve you fit earlier to the observational data."
   ]
  },
  {
   "cell_type": "code",
   "execution_count": 6,
   "metadata": {},
   "outputs": [],
   "source": [
    "# Your code here"
   ]
  },
  {
   "cell_type": "markdown",
   "metadata": {},
   "source": [
    "**Task (0.5 points):** Compute the RMSE (root mean squared error) when you use the regression curve you learned earlier to predict $Y$ in these new data. (To put it another way: we used the observational data as training data, and now we are using the experimental data as test data.)"
   ]
  },
  {
   "cell_type": "code",
   "execution_count": 7,
   "metadata": {},
   "outputs": [],
   "source": [
    "# Your code here"
   ]
  },
  {
   "cell_type": "markdown",
   "metadata": {},
   "source": [
    "You should see in your plot that the curve we learned from the observational data, does not seem to work well for predicting the outcome $Y$ in the interventional data. This is because the experimental distribution is different from the observational distribution.\n",
    "\n",
    "**Question (1 point):** Look at the product decompositions of the original SCM and the SCM modified by the intervention on $X$. Which factors in the decompositions are the same between the observational and the experimental distribution? In order for your fitted curve to also give good predictions on the experimental data, what conditional distribution would we need to stay the same between the two distributions?"
   ]
  },
  {
   "cell_type": "markdown",
   "metadata": {},
   "source": [
    "*Your answer here*"
   ]
  },
  {
   "cell_type": "markdown",
   "metadata": {},
   "source": [
    "The remaining questions use some concepts that we will see in the lectures of week 6 (d-separation and inverse probability weighing).\n",
    "\n",
    "**Question (1.5 points):** What (marginal or conditional) independence should hold in the experimental data, based on d-separation? Plot the data in a way that illustrates this independence, and explain what property of the plot illustrates the independence."
   ]
  },
  {
   "cell_type": "markdown",
   "metadata": {},
   "source": [
    "*Your answer here*"
   ]
  },
  {
   "cell_type": "code",
   "execution_count": 8,
   "metadata": {},
   "outputs": [],
   "source": [
    "# Your code here"
   ]
  },
  {
   "cell_type": "markdown",
   "metadata": {},
   "source": [
    "**Task (2 points):** Now, we will use the method of inverse probability weighing (section 3.6 in the book) for this task. Using *only the observational data*, fit a logistic regression to predict $X$ using $Z$ as a feature. From this logistic regression, extract estimates for $P(X=x_i|Z=z_i)$ for each data point $(x_i, y_i, z_i)$. (Consult the scikit-learn manual to learn how to do this.) Use these to compute an inverse probability weight for each data point in the observational data set.\n",
    "\n",
    "Important note: the purpose of the logistic regression is *not* to predict the value of $X$, because we already know that value for each data point! But we do need the logistic regression to esimate the probability $P(X=x_i|Z=z_i)$."
   ]
  },
  {
   "cell_type": "code",
   "execution_count": 9,
   "metadata": {},
   "outputs": [],
   "source": [
    "# Create logistic regression object (using scikit-learn)\n",
    "reg_logistic = linear_model.LogisticRegression(solver='lbfgs', multi_class='multinomial', max_iter=500)\n",
    "\n",
    "# Your code here"
   ]
  },
  {
   "cell_type": "markdown",
   "metadata": {},
   "source": [
    "**Task (1 point):** Now again predict $Y$ in terms of $X$ using only the observational data as training data, but this time weigh each data point with the inverse probability weight. (Machine learning libraries often provides a way to specify a weight for each data point when fitting a model to data; check the manual of the library you are using.) Plot your regression curve in the same plot as the experimental data, as before."
   ]
  },
  {
   "cell_type": "code",
   "execution_count": 10,
   "metadata": {},
   "outputs": [],
   "source": [
    "# Your code here"
   ]
  },
  {
   "cell_type": "markdown",
   "metadata": {},
   "source": [
    "**Task (0.5 points):** To verify that these predictions of the causal effect of $X$ on $Y$ are more accurate, again compute the RMSE on the experimental data."
   ]
  },
  {
   "cell_type": "code",
   "execution_count": 11,
   "metadata": {},
   "outputs": [],
   "source": [
    "# Your code here"
   ]
  },
  {
   "cell_type": "markdown",
   "metadata": {},
   "source": [
    "You are almost done! Before handing in, make sure that the code you hand in works, and that all plots are shown. **Submit just one file per team.** Name the submitted file according to your and your collaborator's last name (`submitter_collaborator.ipynb`)."
   ]
  }
 ],
 "metadata": {
  "kernelspec": {
   "display_name": "Python 3",
   "language": "python",
   "name": "python3"
  },
  "language_info": {
   "codemirror_mode": {
    "name": "ipython",
    "version": 3
   },
   "file_extension": ".py",
   "mimetype": "text/x-python",
   "name": "python",
   "nbconvert_exporter": "python",
   "pygments_lexer": "ipython3",
   "version": "3.7.6"
  }
 },
 "nbformat": 4,
 "nbformat_minor": 2
}
